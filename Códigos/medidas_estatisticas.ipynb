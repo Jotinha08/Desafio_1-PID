{
 "cells": [
  {
   "cell_type": "code",
   "execution_count": 13,
   "metadata": {},
   "outputs": [],
   "source": [
    "import cv2\n",
    "import numpy as np\n",
    "import matplotlib.pyplot as plt"
   ]
  },
  {
   "cell_type": "code",
   "execution_count": 14,
   "metadata": {},
   "outputs": [],
   "source": [
    "def binarizar_imagem(imagem):\n",
    "    imagem_cinza = cv2.cvtColor(imagem, cv2.COLOR_BGR2GRAY)\n",
    "    _, imagem_bin = cv2.threshold(imagem_cinza, 127, 255, cv2.THRESH_BINARY)\n",
    "    \n",
    "    return imagem_bin"
   ]
  },
  {
   "cell_type": "code",
   "execution_count": 15,
   "metadata": {},
   "outputs": [],
   "source": [
    "def calcular_medidas_estatisticas(imagem_bin):\n",
    "    contornos, _ = cv2.findContours(imagem_bin, cv2.RETR_EXTERNAL, cv2.CHAIN_APPROX_SIMPLE)\n",
    "\n",
    "    areas = []\n",
    "    perimetros = []\n",
    "    excentricidades = []\n",
    "    raios_area = []\n",
    "\n",
    "    for contorno in contornos:\n",
    "        area = cv2.contourArea(contorno)\n",
    "        areas.append(area)\n",
    "\n",
    "        perimetro = cv2.arcLength(contorno, True)\n",
    "        perimetros.append(perimetro)\n",
    "\n",
    "        if perimetro != 0:\n",
    "            excentricidade = np.sqrt(4 * np.pi * area) / perimetro\n",
    "            excentricidades.append(excentricidade)\n",
    "        \n",
    "        raio_area = np.sqrt(area / np.pi)\n",
    "        raios_area.append(raio_area)\n",
    "\n",
    "    return contornos, areas, perimetros, excentricidades, raios_area"
   ]
  },
  {
   "cell_type": "code",
   "execution_count": 16,
   "metadata": {},
   "outputs": [
    {
     "name": "stdout",
     "output_type": "stream",
     "text": [
      "Área média dos elementos: 14.519867549668874\n",
      "Perímetro médio dos elementos: 13.677259262034434\n",
      "Excentricidade média dos elementos: 0.475660367366864\n",
      "Raio médio do círculo de mesma área: 1.275414454981955\n"
     ]
    }
   ],
   "source": [
    "imagem = cv2.imread('final0.jpg')\n",
    "imagem_bin = binarizar_imagem(imagem)\n",
    "\n",
    "contornos, areas, perimetros, excentricidades, raios_area = calcular_medidas_estatisticas(imagem_bin)\n",
    "\n",
    "area_media = np.mean(areas)\n",
    "perimetro_medio = np.mean(perimetros)\n",
    "excentricidade_media = np.mean(excentricidades)\n",
    "raio_area = np.mean(raios_area)\n",
    "\n",
    "print(\"Área média dos elementos:\", area_media)\n",
    "print(\"Perímetro médio dos elementos:\", perimetro_medio)\n",
    "print(\"Excentricidade média dos elementos:\", excentricidade_media)\n",
    "print(\"Raio médio do círculo de mesma área:\", raio_area)"
   ]
  }
 ],
 "metadata": {
  "kernelspec": {
   "display_name": "Python 3",
   "language": "python",
   "name": "python3"
  },
  "language_info": {
   "codemirror_mode": {
    "name": "ipython",
    "version": 3
   },
   "file_extension": ".py",
   "mimetype": "text/x-python",
   "name": "python",
   "nbconvert_exporter": "python",
   "pygments_lexer": "ipython3",
   "version": "3.10.12"
  }
 },
 "nbformat": 4,
 "nbformat_minor": 2
}
